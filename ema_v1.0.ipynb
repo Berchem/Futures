{
 "cells": [
  {
   "cell_type": "code",
   "execution_count": 1,
   "metadata": {},
   "outputs": [],
   "source": [
    "import pandas as pd\n",
    "from datetime import datetime"
   ]
  },
  {
   "cell_type": "code",
   "execution_count": 2,
   "metadata": {},
   "outputs": [],
   "source": [
    "def dict_to_list(D):  \n",
    "    D_item = [D[i].items() for i in range(len(D))]\n",
    "    L = []\n",
    "    for i in range(len(D)):\n",
    "        for k,v in D_item[i]:\n",
    "            L.append([k,v])\n",
    "    return L\n",
    "\n",
    "def list_to_dict(L):\n",
    "    return [dict(zip(P[i][0::2],P[i][1::2])) for i in range(len(P))]\n"
   ]
  },
  {
   "cell_type": "code",
   "execution_count": 3,
   "metadata": {},
   "outputs": [],
   "source": [
    "def ema(data, alpha = 0.2, period = 5):\n",
    "    P = dict_to_list(data)\n",
    "    df = pd.DataFrame(P, columns = [\"date\",\"price\"])\n",
    "    df['ema'] = 0.0\n",
    "    df.ema[period-1] = df.price[:period].mean() \n",
    "\n",
    "    for i in range(period,len(df)):\n",
    "        df.ema[i] = alpha*df.price[i]+(1-alpha)*df.ema[i-1]\n",
    "    \n",
    "    return(df[['date','ema']][period-1:].values.tolist())\n",
    "#     return(df[['date','ema']].values.tolist())  # return whole \n"
   ]
  },
  {
   "cell_type": "markdown",
   "metadata": {},
   "source": [
    "#  def test "
   ]
  },
  {
   "cell_type": "code",
   "execution_count": 4,
   "metadata": {},
   "outputs": [],
   "source": [
    "# test data\n",
    "P1 = [{datetime.strptime('2018-01-01','%Y-%m-%d'):11},\n",
    "     {datetime.strptime('2018-01-02','%Y-%m-%d'):12}, \n",
    "     {datetime.strptime('2018-01-03','%Y-%m-%d'):13}, \n",
    "     {datetime.strptime('2018-01-04','%Y-%m-%d'):14}, \n",
    "     {datetime.strptime('2018-01-05','%Y-%m-%d'):15},\n",
    "     {datetime.strptime('2018-01-06','%Y-%m-%d'):16},\n",
    "     {datetime.strptime('2018-01-07','%Y-%m-%d'):17},\n",
    "     {datetime.strptime('2018-01-08','%Y-%m-%d'):18},\n",
    "     {datetime.strptime('2018-01-09','%Y-%m-%d'):19},\n",
    "     {datetime.strptime('2018-01-10','%Y-%m-%d'):20}]\n"
   ]
  },
  {
   "cell_type": "code",
   "execution_count": 5,
   "metadata": {},
   "outputs": [
    {
     "name": "stderr",
     "output_type": "stream",
     "text": [
      "C:\\Users\\ASUS\\AppData\\Local\\Programs\\Python\\Python36\\lib\\site-packages\\ipykernel_launcher.py:5: SettingWithCopyWarning: \n",
      "A value is trying to be set on a copy of a slice from a DataFrame\n",
      "\n",
      "See the caveats in the documentation: http://pandas.pydata.org/pandas-docs/stable/indexing.html#indexing-view-versus-copy\n",
      "  \"\"\"\n",
      "C:\\Users\\ASUS\\AppData\\Local\\Programs\\Python\\Python36\\lib\\site-packages\\ipykernel_launcher.py:8: SettingWithCopyWarning: \n",
      "A value is trying to be set on a copy of a slice from a DataFrame\n",
      "\n",
      "See the caveats in the documentation: http://pandas.pydata.org/pandas-docs/stable/indexing.html#indexing-view-versus-copy\n",
      "  \n"
     ]
    },
    {
     "data": {
      "text/plain": [
       "[[Timestamp('2018-01-05 00:00:00'), 13.0],\n",
       " [Timestamp('2018-01-06 00:00:00'), 13.600000000000001],\n",
       " [Timestamp('2018-01-07 00:00:00'), 14.280000000000003],\n",
       " [Timestamp('2018-01-08 00:00:00'), 15.024000000000003],\n",
       " [Timestamp('2018-01-09 00:00:00'), 15.819200000000004],\n",
       " [Timestamp('2018-01-10 00:00:00'), 16.65536]]"
      ]
     },
     "execution_count": 5,
     "metadata": {},
     "output_type": "execute_result"
    }
   ],
   "source": [
    "EMA = ema(data = P1, alpha = 0.2, period = 5)\n",
    "EMA"
   ]
  },
  {
   "cell_type": "markdown",
   "metadata": {},
   "source": [
    "# transformat test"
   ]
  },
  {
   "cell_type": "code",
   "execution_count": 6,
   "metadata": {},
   "outputs": [
    {
     "data": {
      "text/plain": [
       "[[datetime.datetime(2018, 1, 1, 0, 0), 11],\n",
       " [datetime.datetime(2018, 1, 2, 0, 0), 12],\n",
       " [datetime.datetime(2018, 1, 3, 0, 0), 13],\n",
       " [datetime.datetime(2018, 1, 4, 0, 0), 14],\n",
       " [datetime.datetime(2018, 1, 5, 0, 0), 15],\n",
       " [datetime.datetime(2018, 1, 6, 0, 0), 16],\n",
       " [datetime.datetime(2018, 1, 7, 0, 0), 17],\n",
       " [datetime.datetime(2018, 1, 8, 0, 0), 18],\n",
       " [datetime.datetime(2018, 1, 9, 0, 0), 19],\n",
       " [datetime.datetime(2018, 1, 10, 0, 0), 20]]"
      ]
     },
     "execution_count": 6,
     "metadata": {},
     "output_type": "execute_result"
    }
   ],
   "source": [
    "P = dict_to_list(P1)\n",
    "P"
   ]
  },
  {
   "cell_type": "code",
   "execution_count": 7,
   "metadata": {},
   "outputs": [
    {
     "data": {
      "text/plain": [
       "[{datetime.datetime(2018, 1, 1, 0, 0): 11},\n",
       " {datetime.datetime(2018, 1, 2, 0, 0): 12},\n",
       " {datetime.datetime(2018, 1, 3, 0, 0): 13},\n",
       " {datetime.datetime(2018, 1, 4, 0, 0): 14},\n",
       " {datetime.datetime(2018, 1, 5, 0, 0): 15},\n",
       " {datetime.datetime(2018, 1, 6, 0, 0): 16},\n",
       " {datetime.datetime(2018, 1, 7, 0, 0): 17},\n",
       " {datetime.datetime(2018, 1, 8, 0, 0): 18},\n",
       " {datetime.datetime(2018, 1, 9, 0, 0): 19},\n",
       " {datetime.datetime(2018, 1, 10, 0, 0): 20}]"
      ]
     },
     "execution_count": 7,
     "metadata": {},
     "output_type": "execute_result"
    }
   ],
   "source": [
    "D = list_to_dict(P)\n",
    "D"
   ]
  }
 ],
 "metadata": {
  "kernelspec": {
   "display_name": "Python 3",
   "language": "python",
   "name": "python3"
  },
  "language_info": {
   "codemirror_mode": {
    "name": "ipython",
    "version": 3
   },
   "file_extension": ".py",
   "mimetype": "text/x-python",
   "name": "python",
   "nbconvert_exporter": "python",
   "pygments_lexer": "ipython3",
   "version": "3.6.5"
  }
 },
 "nbformat": 4,
 "nbformat_minor": 2
}
